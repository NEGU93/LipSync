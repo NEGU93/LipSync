{
 "cells": [
  {
   "cell_type": "markdown",
   "metadata": {
    "slideshow": {
     "slide_type": "slide"
    }
   },
   "source": [
    "# Modificación del pitch\n",
    "\n",
    "+ División por tramas\n",
    "+ Cálculo de la FFT de la trama\n",
    "+ Desplazamiento de la señal hacia frecuencias graves o agudas\n",
    "+ Cálculo de la IFFT\n",
    "+ Recuperación de la señal modificada"
   ]
  },
  {
   "cell_type": "markdown",
   "metadata": {
    "slideshow": {
     "slide_type": "slide"
    }
   },
   "source": [
    "# Modificación de la duración\n",
    "\n",
    "+ Modificación del número de frames\n",
    "+ Para obtener una señal más corta se remueven frames\n",
    "+ Para obtener una señal más larga se agregan frames"
   ]
  },
  {
   "cell_type": "markdown",
   "metadata": {
    "slideshow": {
     "slide_type": "slide"
    }
   },
   "source": [
    "# Identificación de locutores\n",
    "\n",
    "+ Basada en Gaussian Mixture Model (GMM)\n",
    "+ Extracción de features MFCC\n",
    "+ Construcción de modelos de locutor 1, locutor 2 y de mundo\n",
    "+ Comparación de la señal vs todos los modelos\n",
    "+ Elección del que tiene mayor puntaje\n",
    "+ Mejores resultados con ventanas más largas"
   ]
  },
  {
   "cell_type": "code",
   "execution_count": null,
   "metadata": {
    "collapsed": true
   },
   "outputs": [],
   "source": []
  }
 ],
 "metadata": {
  "celltoolbar": "Slideshow",
  "kernelspec": {
   "display_name": "Python 3",
   "language": "python",
   "name": "python3"
  },
  "language_info": {
   "codemirror_mode": {
    "name": "ipython",
    "version": 3
   },
   "file_extension": ".py",
   "mimetype": "text/x-python",
   "name": "python",
   "nbconvert_exporter": "python",
   "pygments_lexer": "ipython3",
   "version": "3.6.2"
  }
 },
 "nbformat": 4,
 "nbformat_minor": 2
}
