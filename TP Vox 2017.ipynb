{
 "cells": [
  {
   "cell_type": "markdown",
   "metadata": {},
   "source": [
    "# Trabajo práctico de Procesamiento de Voz:"
   ]
  },
  {
   "cell_type": "markdown",
   "metadata": {},
   "source": [
    "Basándose en el programa de sincronización de labios \"Papagayo\" se pide escribir un programa con interfaz gráfica que permita:\n",
    "\n",
    "- Abrir un archivo de audio (voz) y detectar los fonemas por grupo de animación.\n",
    "- Exportar los grupos de fonemas en formato .dat (copiar el formato de Papagayo).\n",
    "- Reproducir el archivo de audio realizando en forma sincronizada la animación de una boca a partir de los fonemas detectados.\n",
    "- Modificar del archivo de audio la duración, filtro de cavidades (escalamiento) y frecuencia de los pulsos glotales. De modificarse la duración del audio, deberá actualizarse la detección de fonemas.\n",
    "- En el caso de utilizar mas de un algoritmo para la detección de fonemas o para la modificación de la voz, el programa deberá permitir seleccionarlos desde la interfaz gráfica.\n",
    "\n",
    "Para la segunda entrega:\n",
    "\n",
    "- Modificar el programa para que a partir de un audio con dos voces se puedan animar dos bocas con las mismas facilidades para cada voz que en la entrega anterior.\n",
    "- Agregar nuevos algoritmos para la detección de fonemas. "
   ]
  },
  {
   "cell_type": "code",
   "execution_count": null,
   "metadata": {
    "collapsed": true
   },
   "outputs": [],
   "source": []
  }
 ],
 "metadata": {
  "kernelspec": {
   "display_name": "Python 3",
   "language": "python",
   "name": "python3"
  },
  "language_info": {
   "codemirror_mode": {
    "name": "ipython",
    "version": 3
   },
   "file_extension": ".py",
   "mimetype": "text/x-python",
   "name": "python",
   "nbconvert_exporter": "python",
   "pygments_lexer": "ipython3",
   "version": "3.5.4"
  },
  "toc": {
   "colors": {
    "hover_highlight": "#DAA520",
    "navigate_num": "#000000",
    "navigate_text": "#333333",
    "running_highlight": "#FF0000",
    "selected_highlight": "#FFD700",
    "sidebar_border": "#EEEEEE",
    "wrapper_background": "#FFFFFF"
   },
   "moveMenuLeft": true,
   "nav_menu": {
    "height": "47px",
    "width": "252px"
   },
   "navigate_menu": true,
   "number_sections": false,
   "sideBar": true,
   "threshold": 4,
   "toc_cell": false,
   "toc_section_display": "block",
   "toc_window_display": true,
   "widenNotebook": false
  },
  "varInspector": {
   "cols": {
    "lenName": 16,
    "lenType": 16,
    "lenVar": 40
   },
   "kernels_config": {
    "python": {
     "delete_cmd_postfix": "",
     "delete_cmd_prefix": "del ",
     "library": "var_list.py",
     "varRefreshCmd": "print(var_dic_list())"
    },
    "r": {
     "delete_cmd_postfix": ") ",
     "delete_cmd_prefix": "rm(",
     "library": "var_list.r",
     "varRefreshCmd": "cat(var_dic_list()) "
    }
   },
   "types_to_exclude": [
    "module",
    "function",
    "builtin_function_or_method",
    "instance",
    "_Feature"
   ],
   "window_display": false
  }
 },
 "nbformat": 4,
 "nbformat_minor": 0
}
